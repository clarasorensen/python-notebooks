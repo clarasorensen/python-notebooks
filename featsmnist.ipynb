{
 "cells": [
  {
   "cell_type": "markdown",
   "metadata": {},
   "source": [
    "# Different Feature Representations of MNIST digits"
   ]
  },
  {
   "cell_type": "markdown",
   "metadata": {},
   "source": [
    "**Exercises** (in bold) involve running the code provided, examining the outputs, and answering the questions on the handout, which you will submit after you're done. These count towards your reading responses+in-class exercise grade. "
   ]
  },
  {
   "cell_type": "code",
   "execution_count": 7,
   "metadata": {
    "collapsed": false
   },
   "outputs": [],
   "source": [
    "# setup:\n",
    "import numpy as np\n",
    "import matplotlib.pyplot as plt\n",
    "%matplotlib inline\n",
    "\n",
    "def load(filename):\n",
    "    Xy = np.loadtxt(filename, delimiter=',')\n",
    "    y = Xy[:, -1]\n",
    "    X = Xy[:, :-1]\n",
    "    return X, y\n",
    "\n",
    "from sklearn.neighbors import KNeighborsClassifier\n",
    "def knn_predscore(trainX, trainy, testX, testy, k, metric='euclidean'):\n",
    "    model = KNeighborsClassifier(n_neighbors=k,\n",
    "                                metric=metric)\n",
    "\n",
    "    model.fit(trainX, trainy)\n",
    "    return model.score(testX, testy)\n",
    "\n",
    "from sklearn.linear_model import Perceptron\n",
    "def perceptron_predscore(trainX, trainy, testX, testy):\n",
    "    model = Perceptron(n_iter=200)\n",
    "    model.fit(trainX, trainy)\n",
    "    return model.score(testX, testy)"
   ]
  },
  {
   "cell_type": "markdown",
   "metadata": {},
   "source": [
    "Load the MNIST images as 784-dimensional vectors (each dim a pixel) as in PS1. Keep only 2 digits for binary classification."
   ]
  },
  {
   "cell_type": "code",
   "execution_count": 8,
   "metadata": {
    "collapsed": true
   },
   "outputs": [],
   "source": [
    "trainXraw, trainyraw = load('training.txt')\n",
    "testXraw, testyraw = load('testing.txt')"
   ]
  },
  {
   "cell_type": "code",
   "execution_count": 9,
   "metadata": {
    "collapsed": false
   },
   "outputs": [],
   "source": [
    "def load_2digits(c1, c2, trainXraw, trainyraw, testXraw, testyraw):\n",
    "    \"\"\"filter the full MNIST dataset to two digits for binary classification\"\"\"\n",
    "    trainX = trainXraw[(trainyraw == c1) | (trainyraw == c2), :]\n",
    "    trainy = trainyraw[(trainyraw == c1) | (trainyraw == c2)]\n",
    "\n",
    "    testX = testXraw[(testyraw == c1) | (testyraw == c2), :]\n",
    "    testy = testyraw[(testyraw == c1) | (testyraw == c2)]\n",
    "\n",
    "    labelmap = {c1: -1, c2: +1}  # arbitrary assignment of +1 and -1 to the two classes\n",
    "    for label in labelmap:\n",
    "        trainy[trainy == label] = labelmap[label]   \n",
    "        testy[testy == label] = labelmap[label]      \n",
    "\n",
    "    print 'Loaded', trainy.size, 'training points and', testy.size, 'testing points for digits', c1, 'and', c2\n",
    "    return trainX, trainy, testX, testy, labelmap"
   ]
  },
  {
   "cell_type": "markdown",
   "metadata": {},
   "source": [
    "Let's consider the digits "
   ]
  },
  {
   "cell_type": "code",
   "execution_count": 16,
   "metadata": {
    "collapsed": false
   },
   "outputs": [
    {
     "name": "stdout",
     "output_type": "stream",
     "text": [
      "Loaded 2000 training points and 200 testing points for digits 1 and 9\n"
     ]
    }
   ],
   "source": [
    "trainX, trainy, testX, testy, labelmap = load_2digits(1, 9, trainXraw, trainyraw, testXraw, testyraw)"
   ]
  },
  {
   "cell_type": "code",
   "execution_count": 17,
   "metadata": {
    "collapsed": false
   },
   "outputs": [
    {
     "name": "stdout",
     "output_type": "stream",
     "text": [
      "kNN accuracy on original feature rep is 0.995\n",
      "Perceptron accuracy on original feature rep is 0.995\n"
     ]
    }
   ],
   "source": [
    "print 'kNN accuracy on original feature rep is', knn_predscore(trainX, trainy, testX, testy, 3)\n",
    "print 'Perceptron accuracy on original feature rep is', perceptron_predscore(trainX, trainy, testX, testy)"
   ]
  },
  {
   "cell_type": "markdown",
   "metadata": {},
   "source": [
    "### Tangent: Visualizing the mean images and w.\n",
    "\n",
    "Let's visualize the \"average\" image in our dataset."
   ]
  },
  {
   "cell_type": "code",
   "execution_count": 18,
   "metadata": {
    "collapsed": false
   },
   "outputs": [
    {
     "data": {
      "text/plain": [
       "<matplotlib.image.AxesImage at 0x11c69e650>"
      ]
     },
     "execution_count": 18,
     "metadata": {},
     "output_type": "execute_result"
    },
    {
     "data": {
      "image/png": "[encoded data removed]",
      "text/plain": [
       "<matplotlib.figure.Figure at 0x11c2eb850>"
      ]
     },
     "metadata": {},
     "output_type": "display_data"
    }
   ],
   "source": [
    "meanimg = np.mean(trainX, axis=0)  # get mean of each feature\n",
    "# visualize mean image for fun\n",
    "plt.imshow(meanimg.reshape(28, 28), interpolation='none', cmap = plt.get_cmap('gray'), vmin = 0, vmax = 255)"
   ]
  },
  {
   "cell_type": "markdown",
   "metadata": {},
   "source": [
    "The following two cells visualize the average of *each* digit separately."
   ]
  },
  {
   "cell_type": "code",
   "execution_count": 19,
   "metadata": {
    "collapsed": false
   },
   "outputs": [
    {
     "name": "stdout",
     "output_type": "stream",
     "text": [
      "Visualizing 1 ( -1 )\n"
     ]
    },
    {
     "data": {
      "text/plain": [
       "<matplotlib.image.AxesImage at 0x11c7a2310>"
      ]
     },
     "execution_count": 19,
     "metadata": {},
     "output_type": "execute_result"
    },
    {
     "data": {
      "image/png": "[encoded data removed]",
      "text/plain": [
       "<matplotlib.figure.Figure at 0x11c265b50>"
      ]
     },
     "metadata": {},
     "output_type": "display_data"
    }
   ],
   "source": [
    "c1 = labelmap.keys()[0]\n",
    "print 'Visualizing', c1, '(', labelmap[c1], ')'\n",
    "meanc1 = np.mean(trainX[trainy==labelmap[c1], :], axis=0)\n",
    "plt.imshow(meanc1.reshape(28, 28), interpolation='none', cmap = plt.get_cmap('gray'), vmin = 0, vmax = 255)"
   ]
  },
  {
   "cell_type": "code",
   "execution_count": 20,
   "metadata": {
    "collapsed": false
   },
   "outputs": [
    {
     "name": "stdout",
     "output_type": "stream",
     "text": [
      "Visualizing 9 ( 1 )\n"
     ]
    },
    {
     "data": {
      "text/plain": [
       "<matplotlib.image.AxesImage at 0x11c8951d0>"
      ]
     },
     "execution_count": 20,
     "metadata": {},
     "output_type": "execute_result"
    },
    {
     "data": {
      "image/png": "[encoded data removed]",
      "text/plain": [
       "<matplotlib.figure.Figure at 0x11c42d510>"
      ]
     },
     "metadata": {},
     "output_type": "display_data"
    }
   ],
   "source": [
    "c2 = labelmap.keys()[1]\n",
    "print 'Visualizing', c2, '(', labelmap[c2], ')'\n",
    "meanc2 = np.mean(trainX[trainy==labelmap[c2], :], axis=0)\n",
    "plt.imshow(meanc2.reshape(28, 28), interpolation='none', cmap = plt.get_cmap('gray'), vmin = 0, vmax = 255)"
   ]
  },
  {
   "cell_type": "markdown",
   "metadata": {},
   "source": [
    "The weight vector learned by the perceptron to distinguish 1 (-1 label) and 9 (+1 label) is itself a 784-dim vector, since the data lives in 784 dimensions. Just for fun, let us visualize it as an image!\n",
    "\n",
    "**Exercise a**: According to the colorbar legend, green represents 0. Why is the weight vector green around the boundaries?"
   ]
  },
  {
   "cell_type": "code",
   "execution_count": 21,
   "metadata": {
    "collapsed": false
   },
   "outputs": [
    {
     "data": {
      "text/plain": [
       "<matplotlib.colorbar.Colorbar instance at 0x11ca0c5a8>"
      ]
     },
     "execution_count": 21,
     "metadata": {},
     "output_type": "execute_result"
    },
    {
     "data": {
      "image/png": "[encoded data removed]",
      "text/plain": [
       "<matplotlib.figure.Figure at 0x11c7f6ad0>"
      ]
     },
     "metadata": {},
     "output_type": "display_data"
    }
   ],
   "source": [
    "from numpy.linalg import norm\n",
    "\n",
    "model = Perceptron(n_iter=200, fit_intercept=False)   # no bias fitting\n",
    "model.fit(trainX, trainy)\n",
    "w = model.coef_[0]\n",
    "w/=norm(w, 2)  # normalize\n",
    "\n",
    "plt.imshow(w.reshape(28, 28), cmap = plt.get_cmap('jet'), \n",
    "           vmin = np.min(w), vmax = np.max(w))\n",
    "plt.colorbar()"
   ]
  },
  {
   "cell_type": "markdown",
   "metadata": {},
   "source": [
    "## Experiment 1: Center and Variance-Scale the Features\n",
    "\n",
    "### 1a\n",
    "\n",
    "Compute the mean for each feature in the vector space.\n",
    "Center the points by subtracting the mean.\n",
    "\n",
    "$$f_{i, j}-\\mu_j$$\n",
    "\n",
    "Let's see what happens for a toy example in 2-d space."
   ]
  },
  {
   "cell_type": "code",
   "execution_count": 30,
   "metadata": {
    "collapsed": false
   },
   "outputs": [
    {
     "data": {
      "image/png": "[encoded data removed]",
      "text/plain": [
       "<matplotlib.figure.Figure at 0x11da42e90>"
      ]
     },
     "metadata": {},
     "output_type": "display_data"
    }
   ],
   "source": [
    "def scatterplot_labeledpoints(X, y):\n",
    "    \"\"\"plot 2-d points, colored with one of two labels (-1 or 1)\"\"\"\n",
    "    plt.scatter(X[y==1, 0], X[y==1, 1], color='b')\n",
    "    plt.scatter(X[y==-1, 0], X[y==-1, 1], color='r')\n",
    "    plt.show()\n",
    "    \n",
    "# original points\n",
    "toyX = np.random.rand(100, 2)   # 100 points in 2d\n",
    "toyy = np.ones(100)\n",
    "toyy[50:] = -1\n",
    "scatterplot_labeledpoints(toyX, toyy)"
   ]
  },
  {
   "cell_type": "code",
   "execution_count": 31,
   "metadata": {
    "collapsed": false
   },
   "outputs": [
    {
     "data": {
      "image/png": "[encoded data removed]",
      "text/plain": [
       "<matplotlib.figure.Figure at 0x11daaec50>"
      ]
     },
     "metadata": {},
     "output_type": "display_data"
    }
   ],
   "source": [
    "# after centering\n",
    "meantoy = np.mean(toyX, axis=0)\n",
    "centeredToyX = toyX - meantoy\n",
    "scatterplot_labeledpoints(centeredToyX, toyy)"
   ]
  },
  {
   "cell_type": "markdown",
   "metadata": {},
   "source": [
    "**Exercise b:** from the plots, how did the toy data change after centering?\n",
    "\n",
    "Now let's see how centering affects classification accuracy on the MNIST digits. Remember that we're working with a binary dataset of two digits, so we can apply the perceptron."
   ]
  },
  {
   "cell_type": "code",
   "execution_count": 28,
   "metadata": {
    "collapsed": false
   },
   "outputs": [
    {
     "name": "stdout",
     "output_type": "stream",
     "text": [
      "kNN accuracy on centered feature rep is 0.995\n",
      "Perceptron accuracy on centered feature rep is 0.99\n"
     ]
    }
   ],
   "source": [
    "centeredTrainX = trainX-meanimg\n",
    "centeredTestX = testX-meanimg # can't use means of test data; use training means\n",
    "    \n",
    "print 'kNN accuracy on centered feature rep is', knn_predscore(centeredTrainX, trainy, centeredTestX, testy, 3)\n",
    "print 'Perceptron accuracy on centered feature rep is', perceptron_predscore(centeredTrainX, trainy, centeredTestX, testy)"
   ]
  },
  {
   "cell_type": "markdown",
   "metadata": {},
   "source": [
    "**Exercise c:** Was there a change in kNN or perceptron accuracy compared to the original dataset? If there was no change, explain why. \n",
    "\n",
    "### 1b\n",
    "\n",
    "Compute the standard deviation for each of the features and normalize each vector.\n",
    "\n",
    "$$\\dfrac{f_{i, j}}{\\sigma_j}$$"
   ]
  },
  {
   "cell_type": "code",
   "execution_count": null,
   "metadata": {
    "collapsed": false
   },
   "outputs": [],
   "source": [
    "stds = np.std(trainX, axis=0)  # get variance on each column (feature)\n",
    "stds[stds==0] = 1  # to prevent zero division errors\n",
    "stdnormTrainX = trainX/stds\n",
    "stdnormTestX = testX/stds # can't use variances of test data; use training variances\n",
    "\n",
    "print 'kNN accuracy on normalized feature rep is', knn_predscore(stdnormTrainX, trainy, stdnormTestX, testy, 3)\n",
    "print 'Perceptron accuracy on normalized feature rep is', perceptron_predscore(stdnormTrainX, trainy, stdnormTestX, testy)\n",
    "\n",
    "censtdnormTrainX = centeredTrainX/stds\n",
    "censtdnormTestX = centeredTestX/stds\n",
    "print 'kNN accuracy on centered+normalized feature rep is', knn_predscore(censtdnormTrainX, trainy, censtdnormTestX, testy, 3)\n",
    "print 'Perceptron accuracy on centered+normalized feature rep is', perceptron_predscore(censtdnormTrainX, trainy, censtdnormTestX, testy)"
   ]
  },
  {
   "cell_type": "markdown",
   "metadata": {},
   "source": [
    "## Experiment 2: Example-Norm the Data-Points\n",
    "\n",
    "Scale every data-point (row) by its Euclidean norm.\n",
    "\n",
    "$$\\dfrac{x}{||x||}$$"
   ]
  },
  {
   "cell_type": "code",
   "execution_count": null,
   "metadata": {
    "collapsed": false
   },
   "outputs": [],
   "source": [
    "trainnorms = norm(trainX, axis=1, keepdims=True)\n",
    "exnormTrainX = trainX/trainnorms\n",
    "testnorms = norm(testX, axis=1, keepdims=True)\n",
    "exnormTestX = testX/testnorms\n",
    "print 'kNN accuracy on example-normed feature rep is', knn_predscore(exnormTrainX, trainy, exnormTestX, testy, 3)\n",
    "print 'Perceptron accuracy on example-normed feature rep is', perceptron_predscore(exnormTrainX, trainy, exnormTestX, testy)"
   ]
  },
  {
   "cell_type": "markdown",
   "metadata": {},
   "source": [
    "## Experiment 3: Simpler Feature Design\n",
    "\n",
    "### Binarize the Feature Values\n",
    "\n",
    "Make every feature value 0 or 1 by thresholding (remove grays)."
   ]
  },
  {
   "cell_type": "code",
   "execution_count": null,
   "metadata": {
    "collapsed": true
   },
   "outputs": [],
   "source": [
    "binTrainX = np.zeros(trainX.shape)\n",
    "binTrainX[trainX>50] = 1\n",
    "binTestX = np.zeros(testX.shape)\n",
    "binTestX[testX>50] = 1"
   ]
  },
  {
   "cell_type": "code",
   "execution_count": null,
   "metadata": {
    "collapsed": false
   },
   "outputs": [],
   "source": [
    "print 'kNN accuracy on binarized feature rep is', knn_predscore(binTrainX, trainy, binTestX, testy, 3)\n",
    "print 'Perceptron accuracy on binarized feature rep is', perceptron_predscore(binTrainX, trainy, binTestX, testy)"
   ]
  },
  {
   "cell_type": "markdown",
   "metadata": {},
   "source": [
    "### Region-Based Feature Representations\n",
    "\n",
    "Here's one simple way of featurizing the image with a small number of dimensions.\n",
    "\n",
    "Re-represent the data points as n-dimensional vectors consisting of the number of black pixels in n regions of the image.\n",
    "\n",
    "Does this give us enough information for classification?"
   ]
  },
  {
   "cell_type": "code",
   "execution_count": null,
   "metadata": {
    "collapsed": false
   },
   "outputs": [],
   "source": [
    "def numblack(X, regions):\n",
    "    Xregions = []\n",
    "    dims = X.shape[1]\n",
    "    for i in range(regions):\n",
    "        if i==0:\n",
    "            tmp = X[:, :dims/regions]\n",
    "        else:\n",
    "            tmp = X[:, dims*(i-1)/regions:dims*i/regions]\n",
    "        Xregions.append(np.sum(tmp==0, axis=1))\n",
    "    return np.vstack(tuple(Xregions)).T\n",
    "    \n",
    "blackTestX = numblack(testX, 28)\n",
    "blackTrainX = numblack(trainX, 28)"
   ]
  },
  {
   "cell_type": "code",
   "execution_count": null,
   "metadata": {
    "collapsed": false
   },
   "outputs": [],
   "source": [
    "print 'kNN accuracy on 1-dim feature rep is', sklearn_knn_predictscore(blackTrainX, trainy, blackTestX, testy, 3, 'euclidean')\n",
    "print 'Perceptron accuracy on 1-dim feature rep is', perceptron_predscore(blackTrainX, trainy, blackTestX, testy)"
   ]
  },
  {
   "cell_type": "code",
   "execution_count": null,
   "metadata": {
    "collapsed": true
   },
   "outputs": [],
   "source": []
  }
 ],
 "metadata": {
  "kernelspec": {
   "display_name": "Python 2",
   "language": "python",
   "name": "python2"
  },
  "language_info": {
   "codemirror_mode": {
    "name": "ipython",
    "version": 2
   },
   "file_extension": ".py",
   "mimetype": "text/x-python",
   "name": "python",
   "nbconvert_exporter": "python",
   "pygments_lexer": "ipython2",
   "version": "2.7.10"
  }
 },
 "nbformat": 4,
 "nbformat_minor": 0
}
